{
 "cells": [
  {
   "cell_type": "code",
   "execution_count": 1,
   "metadata": {},
   "outputs": [
    {
     "data": {
      "text/html": [
       "<div>\n",
       "<style scoped>\n",
       "    .dataframe tbody tr th:only-of-type {\n",
       "        vertical-align: middle;\n",
       "    }\n",
       "\n",
       "    .dataframe tbody tr th {\n",
       "        vertical-align: top;\n",
       "    }\n",
       "\n",
       "    .dataframe thead th {\n",
       "        text-align: right;\n",
       "    }\n",
       "</style>\n",
       "<table border=\"1\" class=\"dataframe\">\n",
       "  <thead>\n",
       "    <tr style=\"text-align: right;\">\n",
       "      <th></th>\n",
       "      <th>log_pregnant</th>\n",
       "      <th>glucose</th>\n",
       "      <th>pressure</th>\n",
       "      <th>triceps</th>\n",
       "      <th>log_insulin</th>\n",
       "      <th>log_pedigree</th>\n",
       "      <th>log_age</th>\n",
       "      <th>mass</th>\n",
       "      <th>diabetes</th>\n",
       "    </tr>\n",
       "  </thead>\n",
       "  <tbody>\n",
       "    <tr>\n",
       "      <th>0</th>\n",
       "      <td>1.945910</td>\n",
       "      <td>148.0</td>\n",
       "      <td>72.0</td>\n",
       "      <td>35.000000</td>\n",
       "      <td>5.579791</td>\n",
       "      <td>-0.466809</td>\n",
       "      <td>3.912023</td>\n",
       "      <td>33.6</td>\n",
       "      <td>pos</td>\n",
       "    </tr>\n",
       "    <tr>\n",
       "      <th>1</th>\n",
       "      <td>0.693147</td>\n",
       "      <td>85.0</td>\n",
       "      <td>66.0</td>\n",
       "      <td>29.000000</td>\n",
       "      <td>4.023256</td>\n",
       "      <td>-1.046969</td>\n",
       "      <td>3.433987</td>\n",
       "      <td>26.6</td>\n",
       "      <td>neg</td>\n",
       "    </tr>\n",
       "    <tr>\n",
       "      <th>2</th>\n",
       "      <td>2.197225</td>\n",
       "      <td>183.0</td>\n",
       "      <td>64.0</td>\n",
       "      <td>20.018286</td>\n",
       "      <td>5.501581</td>\n",
       "      <td>-0.397497</td>\n",
       "      <td>3.465736</td>\n",
       "      <td>23.3</td>\n",
       "      <td>pos</td>\n",
       "    </tr>\n",
       "    <tr>\n",
       "      <th>3</th>\n",
       "      <td>0.693147</td>\n",
       "      <td>89.0</td>\n",
       "      <td>66.0</td>\n",
       "      <td>23.000000</td>\n",
       "      <td>4.543295</td>\n",
       "      <td>-1.789761</td>\n",
       "      <td>3.044522</td>\n",
       "      <td>28.1</td>\n",
       "      <td>neg</td>\n",
       "    </tr>\n",
       "    <tr>\n",
       "      <th>4</th>\n",
       "      <td>0.000000</td>\n",
       "      <td>137.0</td>\n",
       "      <td>40.0</td>\n",
       "      <td>35.000000</td>\n",
       "      <td>5.123964</td>\n",
       "      <td>0.827678</td>\n",
       "      <td>3.496508</td>\n",
       "      <td>43.1</td>\n",
       "      <td>pos</td>\n",
       "    </tr>\n",
       "  </tbody>\n",
       "</table>\n",
       "</div>"
      ],
      "text/plain": [
       "   log_pregnant  glucose  pressure    triceps  log_insulin  log_pedigree  \\\n",
       "0      1.945910    148.0      72.0  35.000000     5.579791     -0.466809   \n",
       "1      0.693147     85.0      66.0  29.000000     4.023256     -1.046969   \n",
       "2      2.197225    183.0      64.0  20.018286     5.501581     -0.397497   \n",
       "3      0.693147     89.0      66.0  23.000000     4.543295     -1.789761   \n",
       "4      0.000000    137.0      40.0  35.000000     5.123964      0.827678   \n",
       "\n",
       "    log_age  mass diabetes  \n",
       "0  3.912023  33.6      pos  \n",
       "1  3.433987  26.6      neg  \n",
       "2  3.465736  23.3      pos  \n",
       "3  3.044522  28.1      neg  \n",
       "4  3.496508  43.1      pos  "
      ]
     },
     "execution_count": 1,
     "metadata": {},
     "output_type": "execute_result"
    }
   ],
   "source": [
    "import pandas as pd\n",
    "\n",
    "pima_clean = pd.read_csv('diabetes_clean.csv')\n",
    "pima_clean.head()"
   ]
  },
  {
   "cell_type": "code",
   "execution_count": 2,
   "metadata": {},
   "outputs": [
    {
     "name": "stdout",
     "output_type": "stream",
     "text": [
      "Coefficients: [[ 0.1724771   0.57608434 -0.10701523  0.20206995  0.07323743  0.21092117\n",
      "   0.10589178  0.24127823]]\n",
      "Intercept: [-0.73060879]\n",
      "Mean cross-validation score: 0.7035714285714286\n"
     ]
    },
    {
     "data": {
      "text/plain": [
       "array([[433,  66],\n",
       "       [161, 107]], dtype=int64)"
      ]
     },
     "execution_count": 2,
     "metadata": {},
     "output_type": "execute_result"
    }
   ],
   "source": [
    "from sklearn.linear_model import LogisticRegression\n",
    "from sklearn.preprocessing import StandardScaler\n",
    "from sklearn.model_selection import cross_val_score, cross_val_predict\n",
    "from sklearn.metrics import confusion_matrix\n",
    "\n",
    "# Define the target variable\n",
    "target = pima_clean['diabetes']\n",
    "\n",
    "# Define the predictor variables\n",
    "predictors = pima_clean.drop('diabetes', axis=1)\n",
    "# Create an instance of StandardScaler\n",
    "scaler = StandardScaler()\n",
    "\n",
    "# Standardize the predictors\n",
    "predictors_standard = scaler.fit_transform(predictors)\n",
    "\n",
    "# Fit the GLM model\n",
    "model = LogisticRegression()\n",
    "model.fit(predictors_standard, target)\n",
    "\n",
    "print(\"Coefficients:\", model.coef_)\n",
    "print(\"Intercept:\", model.intercept_)\n",
    "\n",
    "# Perform cross-validation\n",
    "cv_scores = cross_val_score(model, predictors_standard, target, cv=10)\n",
    "\n",
    "print(\"Mean cross-validation score:\", cv_scores.mean())\n",
    "\n",
    "\n",
    "y_pred = cross_val_predict(model, predictors_standard, target, cv=10)\n",
    "cm = confusion_matrix(target, y_pred)\n",
    "cm"
   ]
  },
  {
   "cell_type": "code",
   "execution_count": null,
   "metadata": {},
   "outputs": [],
   "source": []
  }
 ],
 "metadata": {
  "kernelspec": {
   "display_name": "stat5810",
   "language": "python",
   "name": "python3"
  },
  "language_info": {
   "codemirror_mode": {
    "name": "ipython",
    "version": 3
   },
   "file_extension": ".py",
   "mimetype": "text/x-python",
   "name": "python",
   "nbconvert_exporter": "python",
   "pygments_lexer": "ipython3",
   "version": "3.11.5"
  }
 },
 "nbformat": 4,
 "nbformat_minor": 2
}
